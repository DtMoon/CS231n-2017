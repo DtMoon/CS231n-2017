{
 "cells": [
  {
   "cell_type": "code",
   "execution_count": 9,
   "metadata": {
    "collapsed": false
   },
   "outputs": [],
   "source": [
    "import tensorflow as tf\n",
    "from tensorflow.examples.tutorials.mnist import input_data"
   ]
  },
  {
   "cell_type": "code",
   "execution_count": 10,
   "metadata": {
    "collapsed": false
   },
   "outputs": [
    {
     "name": "stdout",
     "output_type": "stream",
     "text": [
      "Extracting MNIST_data/train-images-idx3-ubyte.gz\n",
      "Extracting MNIST_data/train-labels-idx1-ubyte.gz\n",
      "Extracting MNIST_data/t10k-images-idx3-ubyte.gz\n",
      "Extracting MNIST_data/t10k-labels-idx1-ubyte.gz\n"
     ]
    }
   ],
   "source": [
    "mnist = input_data.read_data_sets(\"MNIST_data\", one_hot=True)\n",
    "batch_size = 256\n",
    "n_batch = mnist.train.num_examples // batch_size\n",
    "\n",
    "# 初始化权值\n",
    "def weight_variable(shape):\n",
    "    return tf.Variable(tf.truncated_normal(shape, stddev=0.1))\n",
    "\n",
    "# 初始化偏值\n",
    "def bias_variable(shape):\n",
    "    return tf.Variable(tf.constant(0.1, shape=shape))\n",
    "\n",
    "# 卷积层\n",
    "def conv2d(x, W):\n",
    "    # x: input tensor of shape [batch, in_height, in_width, in_channels]\n",
    "    # 采样窗口W: filter/kernel tensor of shape [filter_height, filter_width, in_channels, out_channels]\n",
    "    # strides[0] = strides[3] = 1, strides[1]代表x方向的步长, strides[2]代表y方向的步长\n",
    "    # padding: A string form: 'SAME', 'VALID'\n",
    "    return tf.nn.conv2d(x, W, strides=[1, 1, 1, 1], padding='SAME')\n",
    "\n",
    "# 池化层\n",
    "def max_pool_2x2(x):\n",
    "    # 窗口大小ksize=[1, x, y, 1]\n",
    "    return tf.nn.max_pool(x, ksize=[1, 2, 2, 1], strides=[1, 2, 2, 1], padding='SAME')\n",
    "\n",
    "# 定义两个placeholder\n",
    "x = tf.placeholder(tf.float32, [None, 784])\n",
    "y = tf.placeholder(tf.float32, [None, 10])\n",
    "\n",
    "# 改变x的格式，转为4D向量[batch, in_height, in_width, in_channels]\n",
    "x_image = tf.reshape(x, [-1, 28, 28, 1])\n",
    "\n",
    "# 初始化第一个卷积层的权值和偏值\n",
    "W_conv1 = weight_variable([5, 5, 1, 32]) # 5*5的采样窗口，单通道图片，使用32个卷积核，最后可以得到32个卷积平面，一个平面对应一个核\n",
    "b_conv1 = bias_variable([32]) # 每一个卷积核一个偏值\n",
    "\n",
    "# 把x_image和权值向量进行卷积，再加上偏值，然后应用于relu激活函数\n",
    "h_conv1 = tf.nn.relu(conv2d(x_image, W_conv1) + b_conv1)\n",
    "h_pool1 = max_pool_2x2(h_conv1) # 进行max pooling\n",
    "\n",
    "# 初始化第二个卷积层的权值和偏值\n",
    "W_conv2 = weight_variable([5, 5, 32, 64]) # 5*5的采样窗口，单通道图片，使用32个卷积核，最后可以得到32个卷积平面，一个平面对应一个核\n",
    "b_conv2 = bias_variable([64]) # 每一个卷积核一个偏值\n",
    "\n",
    "# 把h_pool1和权值向量进行卷积，再加上偏值，然后应用于relu激活函数\n",
    "h_conv2 = tf.nn.relu(conv2d(h_pool1, W_conv2) + b_conv2)\n",
    "h_pool2 = max_pool_2x2(h_conv2) # 进行max pooling\n",
    "\n",
    "# 一张28*28的图片第一次卷积后变为32张28*28平面，第一次池化后变为32张14*14平面\n",
    "# 第二次卷积后变为64张14*14平面，第二次池化后变为64张7*7平面\n",
    "\n",
    "# 初始化第一个全连接层的权值\n",
    "W_fc1 = weight_variable([7 * 7 * 64, 100]) # 上一层有7*7*64个神经元\n",
    "b_fc1 = bias_variable([1, 100]) # 第一层有1024个节点\n",
    "\n",
    "# 把池化层2的输出扁平化为1维\n",
    "h_pool2_flat = tf.reshape(h_pool2, [-1, 7 * 7 * 64])\n",
    "# 求第一层全连接层的输出\n",
    "h_fc1 = tf.nn.relu(tf.matmul(h_pool2_flat, W_fc1) + b_fc1)\n",
    "\n",
    "# 保留百分之keep_prob的神经元\n",
    "keep_prob = tf.placeholder(tf.float32)\n",
    "h_fc1_drop = tf.nn.dropout(h_fc1, keep_prob)\n",
    "\n",
    "# 初始化第二个全连接层的权值\n",
    "W_fc2 = weight_variable([100, 10])\n",
    "b_fc2 = bias_variable([1, 10])\n",
    "prediction = tf.matmul(h_fc1_drop, W_fc2) + b_fc2\n",
    "\n",
    "# cross entropy\n",
    "loss = tf.reduce_mean(tf.nn.softmax_cross_entropy_with_logits_v2(labels=y, logits=prediction))\n",
    "# 使用梯度下降法\n",
    "train_step = tf.train.AdamOptimizer(1e-4).minimize(loss)\n",
    "\n",
    "# 判断预测值与真实值是否相同\n",
    "correct_prediction = tf.equal(tf.argmax(y, 1), tf.argmax(prediction, 1))\n",
    "# 准确率\n",
    "accuracy = tf.reduce_mean(tf.cast(correct_prediction, tf.float32))"
   ]
  },
  {
   "cell_type": "code",
   "execution_count": 12,
   "metadata": {
    "collapsed": false
   },
   "outputs": [
    {
     "name": "stdout",
     "output_type": "stream",
     "text": [
      "iter: 0 loss: 0.5734 test accuracy: 0.9019\n",
      "iter: 1 loss: 0.3789 test accuracy: 0.9363\n",
      "iter: 2 loss: 0.2780 test accuracy: 0.9528\n",
      "iter: 3 loss: 0.2119 test accuracy: 0.9626\n",
      "iter: 4 loss: 0.1500 test accuracy: 0.9667\n",
      "iter: 5 loss: 0.1617 test accuracy: 0.9717\n",
      "iter: 6 loss: 0.1688 test accuracy: 0.9752\n",
      "iter: 7 loss: 0.1684 test accuracy: 0.9759\n",
      "iter: 8 loss: 0.0821 test accuracy: 0.9768\n",
      "iter: 9 loss: 0.0748 test accuracy: 0.9800\n",
      "iter: 10 loss: 0.1111 test accuracy: 0.9814\n",
      "iter: 11 loss: 0.0798 test accuracy: 0.9821\n",
      "iter: 12 loss: 0.0878 test accuracy: 0.9840\n",
      "iter: 13 loss: 0.0802 test accuracy: 0.9842\n",
      "iter: 14 loss: 0.1117 test accuracy: 0.9842\n",
      "iter: 15 loss: 0.0829 test accuracy: 0.9861\n",
      "iter: 16 loss: 0.0929 test accuracy: 0.9859\n",
      "iter: 17 loss: 0.0457 test accuracy: 0.9856\n",
      "iter: 18 loss: 0.0323 test accuracy: 0.9857\n",
      "iter: 19 loss: 0.0282 test accuracy: 0.9861\n",
      "iter: 20 loss: 0.0490 test accuracy: 0.9871\n"
     ]
    }
   ],
   "source": [
    "with tf.Session() as sess:\n",
    "    sess.run(tf.global_variables_initializer())\n",
    "    for epoch in range(21):\n",
    "        for batch in range(n_batch):\n",
    "            batch_xs, batch_ys = mnist.train.next_batch(batch_size)\n",
    "            loss_, _ = sess.run([loss, train_step], feed_dict={x: batch_xs, y: batch_ys, keep_prob: 0.7})\n",
    "        test_acc = sess.run(accuracy, feed_dict={x: mnist.test.images, y: mnist.test.labels, keep_prob: 1.0})\n",
    "        print(\"iter:\", epoch, \"loss: {:.4f} test accuracy: {:.4f}\".format(loss_, test_acc))"
   ]
  },
  {
   "cell_type": "code",
   "execution_count": null,
   "metadata": {
    "collapsed": true
   },
   "outputs": [],
   "source": []
  }
 ],
 "metadata": {
  "kernelspec": {
   "display_name": "Python 3",
   "language": "python",
   "name": "python3"
  },
  "language_info": {
   "codemirror_mode": {
    "name": "ipython",
    "version": 3
   },
   "file_extension": ".py",
   "mimetype": "text/x-python",
   "name": "python",
   "nbconvert_exporter": "python",
   "pygments_lexer": "ipython3",
   "version": "3.5.3"
  }
 },
 "nbformat": 4,
 "nbformat_minor": 2
}
